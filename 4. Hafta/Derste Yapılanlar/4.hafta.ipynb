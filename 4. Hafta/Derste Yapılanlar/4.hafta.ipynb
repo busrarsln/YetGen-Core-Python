{
 "cells": [
  {
   "attachments": {},
   "cell_type": "markdown",
   "metadata": {},
   "source": [
    "LİSTELER\n",
    "-[] içerisinde tutulurlar.\n",
    "\n",
    "-İndexleme, veri güncelleme, silme, veri ekleme gibi işlemler yapılabilir.\n",
    "\n",
    "-İç içe listeleme işlemi yapılabilir."
   ]
  },
  {
   "cell_type": "code",
   "execution_count": 5,
   "metadata": {},
   "outputs": [
    {
     "name": "stdout",
     "output_type": "stream",
     "text": [
      "['Ahmet', 'Beyza', 'Gece', 'Begüm']\n",
      "Ahmet\n",
      "Gece\n"
     ]
    }
   ],
   "source": [
    "liderler = [\"Ahmet\" , \"Beyza\", \"Gece\", \"Begüm\" ]\n",
    "print(liderler)\n",
    "print(liderler[0])\n",
    "print(liderler[-2])"
   ]
  },
  {
   "cell_type": "code",
   "execution_count": 6,
   "metadata": {},
   "outputs": [
    {
     "name": "stdout",
     "output_type": "stream",
     "text": [
      "['Ahmet', 'Beyza', 'Gece', 'Begüm', 'Irmak']\n",
      "['Beyza', 'Gece', 'Begüm', 'Irmak']\n"
     ]
    }
   ],
   "source": [
    "liderler.append(\"Irmak\")\n",
    "print(liderler)\n",
    "liderler.remove(\"Ahmet\")\n",
    "print(liderler)"
   ]
  },
  {
   "attachments": {},
   "cell_type": "markdown",
   "metadata": {},
   "source": [
    "'len' listenin uzunluğu, listedeki birim sayısını öğrenebiliriz."
   ]
  },
  {
   "cell_type": "code",
   "execution_count": 7,
   "metadata": {},
   "outputs": [
    {
     "name": "stdout",
     "output_type": "stream",
     "text": [
      "4\n"
     ]
    }
   ],
   "source": [
    "print(len(liderler))"
   ]
  },
  {
   "cell_type": "code",
   "execution_count": 9,
   "metadata": {},
   "outputs": [
    {
     "name": "stdout",
     "output_type": "stream",
     "text": [
      "['Beyza', 'Gece', 'Begüm', 'Elif']\n"
     ]
    }
   ],
   "source": [
    "liderler[3] = \"Elif\"\n",
    "print(liderler)"
   ]
  },
  {
   "attachments": {},
   "cell_type": "markdown",
   "metadata": {},
   "source": [
    "''clear' listenin içerisindeki elemanları siler."
   ]
  },
  {
   "cell_type": "code",
   "execution_count": 11,
   "metadata": {},
   "outputs": [],
   "source": [
    "liderler.clear()"
   ]
  },
  {
   "attachments": {},
   "cell_type": "markdown",
   "metadata": {},
   "source": [
    "index():\n",
    "\n",
    "-Listedeki elemanın indexini verir.\n",
    "\n",
    "-Aranan veriyi ilk bulduğunda durur. Diğer verilerde aynı veri varsa getirmez.\n",
    "\n",
    "-Eğer veri bulunamazsa value error hatası verir."
   ]
  },
  {
   "cell_type": "code",
   "execution_count": 12,
   "metadata": {},
   "outputs": [
    {
     "name": "stdout",
     "output_type": "stream",
     "text": [
      "['Ankara', 'İstanbul', 'İzmir']\n"
     ]
    }
   ],
   "source": [
    "sehirler = list((\"Ankara\", \"İstanbul\", \"İzmir\"))\n",
    "print(sehirler)"
   ]
  },
  {
   "cell_type": "code",
   "execution_count": 13,
   "metadata": {},
   "outputs": [
    {
     "name": "stdout",
     "output_type": "stream",
     "text": [
      "Ankara'nın indeksi: 0\n"
     ]
    }
   ],
   "source": [
    "print(\"Ankara'nın indeksi:\" , sehirler.index(\"Ankara\"))"
   ]
  },
  {
   "attachments": {},
   "cell_type": "markdown",
   "metadata": {},
   "source": [
    "pop(): Listedeki elemanı siler.\n",
    "\n",
    "-Index verilemezse listedeki son elemanı siler.\n",
    "\n",
    "-Index verilirse indexi verilen elemanı siler."
   ]
  },
  {
   "cell_type": "code",
   "execution_count": 14,
   "metadata": {},
   "outputs": [
    {
     "name": "stdout",
     "output_type": "stream",
     "text": [
      "['İstanbul', 'İzmir']\n"
     ]
    }
   ],
   "source": [
    "sehirler.pop(0)\n",
    "print(sehirler)"
   ]
  },
  {
   "attachments": {},
   "cell_type": "markdown",
   "metadata": {},
   "source": [
    "insert(): İstenen indexe eleman ekler."
   ]
  },
  {
   "cell_type": "code",
   "execution_count": 15,
   "metadata": {},
   "outputs": [
    {
     "name": "stdout",
     "output_type": "stream",
     "text": [
      "['Eskişehir', 'İstanbul', 'İzmir', 'Hatay']\n"
     ]
    }
   ],
   "source": [
    "sehirler.insert(0,\"Eskişehir\")\n",
    "sehirler.insert(3,\"Hatay\")\n",
    "print(sehirler)"
   ]
  },
  {
   "attachments": {},
   "cell_type": "markdown",
   "metadata": {},
   "source": [
    "reverse(): listeyi tersine çeviri"
   ]
  },
  {
   "cell_type": "code",
   "execution_count": 19,
   "metadata": {},
   "outputs": [
    {
     "name": "stdout",
     "output_type": "stream",
     "text": [
      "['Hatay', 'İzmir', 'İstanbul', 'Eskişehir']\n"
     ]
    }
   ],
   "source": [
    "sehirler.reverse()\n",
    "print(sehirler)"
   ]
  },
  {
   "attachments": {},
   "cell_type": "markdown",
   "metadata": {},
   "source": [
    "sort(): listeyi küçükten büyüğe sıralar."
   ]
  },
  {
   "cell_type": "code",
   "execution_count": 20,
   "metadata": {},
   "outputs": [
    {
     "name": "stdout",
     "output_type": "stream",
     "text": [
      "['Eskişehir', 'Hatay', 'İstanbul', 'İzmir']\n"
     ]
    }
   ],
   "source": [
    "sehirler.sort()\n",
    "print(sehirler)"
   ]
  },
  {
   "attachments": {},
   "cell_type": "markdown",
   "metadata": {},
   "source": [
    "LİSTE TOPLAMA\n",
    "\n",
    "-İki Listeyi birleştirir."
   ]
  },
  {
   "cell_type": "code",
   "execution_count": 21,
   "metadata": {},
   "outputs": [
    {
     "name": "stdout",
     "output_type": "stream",
     "text": [
      "['Stella', 'Layla', 'Flora', 'Tecna']\n"
     ]
    }
   ],
   "source": [
    "liste1 = [\"Stella\", \"Layla\"]\n",
    "liste2 = [\"Flora\", \"Tecna\"]\n",
    "print(liste1 + liste2)"
   ]
  },
  {
   "attachments": {},
   "cell_type": "markdown",
   "metadata": {},
   "source": [
    "TUPLE\n",
    "-Listelerle benzerdir, farkı: listelerdeki gibi eleman değiştirilemez.\n",
    "\n",
    "-Performanslı bir data sağlar.\n",
    "\n",
    "-() içerisinde tanımlanabilir.\n",
    "\n",
    "-İç içe tuple oluşturulabilir.\n",
    "\n",
    "-Liste içerisinde tuple. tuple içerisinde liste tanımlamak mümkündür.\n",
    "\n",
    "-Bir kere tanımlandıktan sonra değiştirilemezler yalnızca okunurlar.\n",
    "\n",
    "-Tek elemansa tuple olduğunu belirtmek için virgül konulmalıdır."
   ]
  },
  {
   "cell_type": "code",
   "execution_count": 25,
   "metadata": {},
   "outputs": [
    {
     "name": "stdout",
     "output_type": "stream",
     "text": [
      "<class 'tuple'>\n"
     ]
    }
   ],
   "source": [
    "tupleList = (2,4,8,\"Ankara\",[2,4,8])\n",
    "print(type(tupleList))"
   ]
  },
  {
   "cell_type": "code",
   "execution_count": 26,
   "metadata": {},
   "outputs": [
    {
     "name": "stdout",
     "output_type": "stream",
     "text": [
      "(2, 4, 8, 'Ankara', [2, 4, 8])\n"
     ]
    }
   ],
   "source": [
    "print(tupleList)"
   ]
  },
  {
   "cell_type": "code",
   "execution_count": 27,
   "metadata": {},
   "outputs": [
    {
     "name": "stdout",
     "output_type": "stream",
     "text": [
      "5\n"
     ]
    }
   ],
   "source": [
    "print(len(tupleList))"
   ]
  },
  {
   "cell_type": "code",
   "execution_count": 28,
   "metadata": {},
   "outputs": [
    {
     "name": "stdout",
     "output_type": "stream",
     "text": [
      "(4, 8, 'Ankara')\n"
     ]
    }
   ],
   "source": [
    "print(tupleList[1:4])"
   ]
  },
  {
   "attachments": {},
   "cell_type": "markdown",
   "metadata": {},
   "source": [
    "SET\n",
    "-listelere benzer, indexsiz ve sırasız elemanlardan oluşur.\n",
    "\n",
    "-Veri takımı söz konusu değildir, tüm elemanlar eşsizdir.\n",
    "\n",
    "-{} içeirisinde tanımlanır.\n",
    "\n",
    "-Çok hızlı bir veri tipidir."
   ]
  },
  {
   "cell_type": "code",
   "execution_count": 29,
   "metadata": {},
   "outputs": [
    {
     "name": "stdout",
     "output_type": "stream",
     "text": [
      "{'Musa', 'Aisha'}\n",
      "<class 'set'>\n"
     ]
    }
   ],
   "source": [
    "periler = {\"Aisha\", \"Musa\", \"Musa\"}\n",
    "print(periler)\n",
    "print(type(periler))"
   ]
  },
  {
   "cell_type": "code",
   "execution_count": 31,
   "metadata": {},
   "outputs": [
    {
     "name": "stdout",
     "output_type": "stream",
     "text": [
      "Musa\n",
      "Aisha\n"
     ]
    }
   ],
   "source": [
    "for peri in periler:\n",
    "    print(peri)"
   ]
  },
  {
   "attachments": {},
   "cell_type": "markdown",
   "metadata": {},
   "source": [
    "SET METODLARI\n",
    "-add(): sete eleman ekler.\n",
    "-remove(): set'ten eleman siler.\n",
    "-clear(): set içerisindeki elemanları temizler.\n",
    "-pop(): setin son elemanını siler.\n",
    "-update(): sete eleman ekler.\n",
    "-union(): iki seti birleştirir.\n",
    "-intersection():iki setin kesişimini alır.\n",
    "-difference(): iki setin farkını alır."
   ]
  },
  {
   "cell_type": "code",
   "execution_count": 32,
   "metadata": {},
   "outputs": [
    {
     "data": {
      "text/plain": [
       "{1, 2, 3, 4}"
      ]
     },
     "execution_count": 32,
     "metadata": {},
     "output_type": "execute_result"
    }
   ],
   "source": [
    "set1 = {1,2,3}\n",
    "set2 = {2,3,4}\n",
    "set1.union(set2)"
   ]
  },
  {
   "cell_type": "code",
   "execution_count": 33,
   "metadata": {},
   "outputs": [
    {
     "data": {
      "text/plain": [
       "{2, 3}"
      ]
     },
     "execution_count": 33,
     "metadata": {},
     "output_type": "execute_result"
    }
   ],
   "source": [
    "set1.intersection(set2)"
   ]
  },
  {
   "cell_type": "code",
   "execution_count": 34,
   "metadata": {},
   "outputs": [
    {
     "data": {
      "text/plain": [
       "{1}"
      ]
     },
     "execution_count": 34,
     "metadata": {},
     "output_type": "execute_result"
    }
   ],
   "source": [
    "set1.difference(set2)"
   ]
  },
  {
   "attachments": {},
   "cell_type": "markdown",
   "metadata": {},
   "source": [
    "DICTIONARY\n",
    "-Sırasız veri tutar, günlük hayattaki sözlükler gibi düşünebiliriz.\n",
    "-{} içerisinde tanımlanır.\n",
    "-key: bir bilgiye ulaşmak için kullanılır.\n",
    "-value: değer\n",
    "-dict(\"\") şeklinde de sözlük tanımlayabiliriz."
   ]
  },
  {
   "cell_type": "code",
   "execution_count": 35,
   "metadata": {},
   "outputs": [
    {
     "name": "stdout",
     "output_type": "stream",
     "text": [
      "{'book': 'kitap', 'table': 'masa'}\n",
      "<class 'dict'>\n"
     ]
    }
   ],
   "source": [
    "sozluk = {\"book\" : \"kitap\" , \"table\" : \"masa\"}\n",
    "print(sozluk)\n",
    "print(type(sozluk))"
   ]
  },
  {
   "cell_type": "code",
   "execution_count": 36,
   "metadata": {},
   "outputs": [
    {
     "name": "stdout",
     "output_type": "stream",
     "text": [
      "masa\n"
     ]
    }
   ],
   "source": [
    "print(sozluk[\"table\"])"
   ]
  },
  {
   "attachments": {},
   "cell_type": "markdown",
   "metadata": {},
   "source": [
    "STRING PARÇALAMA"
   ]
  },
  {
   "cell_type": "code",
   "execution_count": 38,
   "metadata": {},
   "outputs": [
    {
     "name": "stdout",
     "output_type": "stream",
     "text": [
      "tGe\n"
     ]
    }
   ],
   "source": [
    "x = \"YetGen\"\n",
    "print(x[2: 5])"
   ]
  },
  {
   "cell_type": "code",
   "execution_count": 39,
   "metadata": {},
   "outputs": [
    {
     "name": "stdout",
     "output_type": "stream",
     "text": [
      "tGen\n"
     ]
    }
   ],
   "source": [
    "print(x[2: ])"
   ]
  },
  {
   "cell_type": "code",
   "execution_count": 40,
   "metadata": {},
   "outputs": [
    {
     "name": "stdout",
     "output_type": "stream",
     "text": [
      "Ye\n"
     ]
    }
   ],
   "source": [
    "print(x[ :2])"
   ]
  },
  {
   "attachments": {},
   "cell_type": "markdown",
   "metadata": {},
   "source": [
    "String Metodları\n",
    "-len(): String'in uzunluğunu verir.\n",
    "\n",
    "-upper(): String'in bütün harflerini büyük harfe çevirir.\n",
    "\n",
    "-lower(): String'in tüm harflerini küçük harfe çevirir.\n",
    "\n",
    "-capitalize(): String'in ilk harfini büyük harfe çevirir.\n",
    "\n",
    "-swapcase(): String'in tüm küçük harflerini büyük harfe, büyük harflerini küçük harfe çevirir.\n",
    "\n",
    "-replace(): String içerisindeki veriyi değiştirir.\n",
    "\n",
    "-split(): String'i parçalar.\n",
    "\n",
    "-strip(): String'in başındaki ve sonundaki boşlukları siler.\n",
    "\n",
    "-startswith(): String'in belirtilen harfle başlayıp başlamadığını kontrol eder.\n",
    "\n",
    "-find(): String'in içerisindeki verinin index'ini verir, veri yoksa -1 verir.\n",
    "\n",
    "-index(): String'in içerisindeki verinin index'ini verir, veri yoksa ValueError verir.\n",
    "\n",
    "-isalpha(): String içindeki tüm harflerin alfabetik olup olmadığını kontrol eder.\n",
    "-isdigit(): Strign içindeki tüm karakterlerin rakam olup olmadığını kontrol eder.\n"
   ]
  },
  {
   "cell_type": "code",
   "execution_count": 41,
   "metadata": {},
   "outputs": [
    {
     "data": {
      "text/plain": [
       "'YatGan'"
      ]
     },
     "execution_count": 41,
     "metadata": {},
     "output_type": "execute_result"
    }
   ],
   "source": [
    "x.replace(\"e\", \"a\")"
   ]
  },
  {
   "cell_type": "code",
   "execution_count": 43,
   "metadata": {},
   "outputs": [
    {
     "name": "stdout",
     "output_type": "stream",
     "text": [
      "['Selena', 'Gomez', '30', 'Kanada']\n"
     ]
    }
   ],
   "source": [
    "bilgi = \"Selena Gomez 30 Kanada\"\n",
    "print(bilgi.split(\" \"))"
   ]
  }
 ],
 "metadata": {
  "kernelspec": {
   "display_name": "Python 3",
   "language": "python",
   "name": "python3"
  },
  "language_info": {
   "codemirror_mode": {
    "name": "ipython",
    "version": 3
   },
   "file_extension": ".py",
   "mimetype": "text/x-python",
   "name": "python",
   "nbconvert_exporter": "python",
   "pygments_lexer": "ipython3",
   "version": "3.11.1"
  },
  "orig_nbformat": 4
 },
 "nbformat": 4,
 "nbformat_minor": 2
}
