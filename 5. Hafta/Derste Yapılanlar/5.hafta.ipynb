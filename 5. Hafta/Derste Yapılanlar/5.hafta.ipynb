{
 "cells": [
  {
   "cell_type": "code",
   "execution_count": null,
   "metadata": {},
   "outputs": [],
   "source": []
  },
  {
   "attachments": {},
   "cell_type": "markdown",
   "metadata": {},
   "source": [
    "LIST COMPREHENSION\n",
    "-Liste işlemlerinde kodu uzun yazmak yerine tek bir satırda düzenleme imkanı sunmaktadır."
   ]
  },
  {
   "cell_type": "code",
   "execution_count": 1,
   "metadata": {},
   "outputs": [
    {
     "name": "stdout",
     "output_type": "stream",
     "text": [
      "[1, 4, 9, 16, 25, 36, 49, 64, 81, 100]\n"
     ]
    }
   ],
   "source": [
    "liste = [1, 2, 3, 4, 5, 6, 7, 8, 9, 10]\n",
    "yeniListe = []\n",
    "for i in liste:\n",
    "    yeniListe.append( i * i )\n",
    "print(yeniListe)"
   ]
  },
  {
   "cell_type": "code",
   "execution_count": 2,
   "metadata": {},
   "outputs": [
    {
     "name": "stdout",
     "output_type": "stream",
     "text": [
      "[1, 4, 9, 16, 25, 36, 49, 64, 81, 100]\n"
     ]
    }
   ],
   "source": [
    "liste = [1, 2, 3, 4, 5, 6, 7, 8, 9, 10]\n",
    "yeniListe = [i *i for i in liste]\n",
    "print(yeniListe)"
   ]
  },
  {
   "attachments": {},
   "cell_type": "markdown",
   "metadata": {},
   "source": [
    "FONKSİYONLAR\n",
    "-Bir kodu birçok yerde kullanmamız gerekiyorsa her yere tekrar tekrar yazmamızı önler. (proogramlamanın temeli DRY / Don't Repeat Yourself)\n",
    "\n",
    "-Fonksiyonun içindeki değişkenler yereldir. Bir fonksiyonun içinde değişken tanımladığımızda o değişkeni fonksiyonu değişkenin dışına çağıramayız. Değişken o fonksiyona özeldir globalde kullanılamaz.\n",
    "\n",
    "-Ne zaman bir fonksiyon çağırılırsa fonksiyonu yazdıktan sonra yapmalıyız.\n",
    "\n",
    "-Fonksiyon tanımlama yapısı şu şekildedir:\n",
    "\n",
    "         def fonksiyon_adı(parametre1, parametre2...(opsiyonel))\n",
    "         Yapılacak işlemler\n",
    "         "
   ]
  },
  {
   "cell_type": "code",
   "execution_count": 3,
   "metadata": {},
   "outputs": [
    {
     "name": "stdout",
     "output_type": "stream",
     "text": [
      "Hola\n"
     ]
    }
   ],
   "source": [
    "def selamla() : \n",
    "    print (\"Hola\")\n",
    "selamla()"
   ]
  },
  {
   "attachments": {},
   "cell_type": "markdown",
   "metadata": {},
   "source": [
    "ARGÜMAN/PARAMETRE\n",
    "\n",
    "-işlev çağırılırken parantez içindeki işlevlere iletilen değerler (string, number vb..)\n",
    "\n",
    "-Fonksiyon çağırılırken argüman yoksa bu argümanın değeri None olacaktır. "
   ]
  },
  {
   "cell_type": "code",
   "execution_count": 7,
   "metadata": {},
   "outputs": [
    {
     "name": "stdout",
     "output_type": "stream",
     "text": [
      "Merhaba ziyaretçi\n",
      "Merhaba oğuz\n"
     ]
    }
   ],
   "source": [
    "def helloWorld(name = \"ziyaretçi\") : \n",
    "    print (\"Merhaba\", name)\n",
    "helloWorld()\n",
    "helloWorld(\"oğuz\")"
   ]
  },
  {
   "cell_type": "code",
   "execution_count": 8,
   "metadata": {},
   "outputs": [
    {
     "name": "stdout",
     "output_type": "stream",
     "text": [
      "6\n"
     ]
    }
   ],
   "source": [
    "def topla(sayi1, sayi2, sayi3 ) : \n",
    "    toplam = sayi1 + sayi2 + sayi3 \n",
    "    print(toplam)\n",
    "topla(1, 2, 3)"
   ]
  },
  {
   "cell_type": "code",
   "execution_count": 12,
   "metadata": {},
   "outputs": [
    {
     "name": "stdout",
     "output_type": "stream",
     "text": [
      "Sisteme Hoş geldin Oğuz Arslan\n",
      "Sisteme Hoş geldin Taha Kapuk\n"
     ]
    }
   ],
   "source": [
    "def merhaba ( name = \"Oğuz\", surname = \"Arslan\"):\n",
    "    print (\"Sisteme Hoş geldin\" + \" \" + name + \" \" + surname)\n",
    "merhaba()\n",
    "merhaba (\"Taha\" , \"Kapuk\")"
   ]
  },
  {
   "attachments": {},
   "cell_type": "markdown",
   "metadata": {},
   "source": [
    "RETURN\n",
    "-Kodun tamamında kullanmak için işlevin kodu tamamladıktan sonra kalan değeri (sonuç değer) döndürür.\n",
    "\n",
    "-\"return\" anahtar sözcüğünden sonra kodlar yürütülmez. Bu görmezden gelindikleri anlamına gelir.\n",
    "\n",
    "-return yardımıyla fonksiyonlar değerleri çağırıldıkları yere döndürebilir ve biz de bu değerleri istediğimiz yerde kullanabiliriz.\n"
   ]
  }
 ],
 "metadata": {
  "kernelspec": {
   "display_name": "Python 3",
   "language": "python",
   "name": "python3"
  },
  "language_info": {
   "codemirror_mode": {
    "name": "ipython",
    "version": 3
   },
   "file_extension": ".py",
   "mimetype": "text/x-python",
   "name": "python",
   "nbconvert_exporter": "python",
   "pygments_lexer": "ipython3",
   "version": "3.11.1"
  },
  "orig_nbformat": 4
 },
 "nbformat": 4,
 "nbformat_minor": 2
}
