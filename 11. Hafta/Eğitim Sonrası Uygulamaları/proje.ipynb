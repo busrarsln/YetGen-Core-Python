{
 "cells": [
  {
   "cell_type": "code",
   "execution_count": 6,
   "metadata": {},
   "outputs": [
    {
     "name": "stdout",
     "output_type": "stream",
     "text": [
      "Collecting requestsNote: you may need to restart the kernel to use updated packages.\n"
     ]
    },
    {
     "name": "stderr",
     "output_type": "stream",
     "text": [
      "\n",
      "[notice] A new release of pip available: 22.3.1 -> 23.1.2\n",
      "[notice] To update, run: python.exe -m pip install --upgrade pip\n"
     ]
    },
    {
     "name": "stdout",
     "output_type": "stream",
     "text": [
      "\n",
      "  Downloading requests-2.30.0-py3-none-any.whl (62 kB)\n",
      "     -------------------------------------- 62.5/62.5 kB 196.4 kB/s eta 0:00:00\n",
      "Collecting charset-normalizer<4,>=2\n",
      "  Downloading charset_normalizer-3.1.0-cp311-cp311-win_amd64.whl (96 kB)\n",
      "     ---------------------------------------- 96.7/96.7 kB 1.1 MB/s eta 0:00:00\n",
      "Collecting idna<4,>=2.5\n",
      "  Downloading idna-3.4-py3-none-any.whl (61 kB)\n",
      "     ---------------------------------------- 61.5/61.5 kB 3.2 MB/s eta 0:00:00\n",
      "Collecting urllib3<3,>=1.21.1\n",
      "  Downloading urllib3-2.0.2-py3-none-any.whl (123 kB)\n",
      "     -------------------------------------- 123.2/123.2 kB 3.6 MB/s eta 0:00:00\n",
      "Collecting certifi>=2017.4.17\n",
      "  Downloading certifi-2023.5.7-py3-none-any.whl (156 kB)\n",
      "     -------------------------------------- 157.0/157.0 kB 4.6 MB/s eta 0:00:00\n",
      "Installing collected packages: urllib3, idna, charset-normalizer, certifi, requests\n",
      "Successfully installed certifi-2023.5.7 charset-normalizer-3.1.0 idna-3.4 requests-2.30.0 urllib3-2.0.2\n"
     ]
    }
   ],
   "source": [
    "pip install requests"
   ]
  },
  {
   "cell_type": "code",
   "execution_count": 2,
   "metadata": {},
   "outputs": [
    {
     "name": "stdout",
     "output_type": "stream",
     "text": [
      "Enflasyon verileri alınamadı.\n"
     ]
    },
    {
     "ename": "NameError",
     "evalue": "name 'aylik_enflasyon' is not defined",
     "output_type": "error",
     "traceback": [
      "\u001b[1;31m---------------------------------------------------------------------------\u001b[0m",
      "\u001b[1;31mNameError\u001b[0m                                 Traceback (most recent call last)",
      "Cell \u001b[1;32mIn[2], line 55\u001b[0m\n\u001b[0;32m     52\u001b[0m         \u001b[39mself\u001b[39m\u001b[39m.\u001b[39mgiyim \u001b[39m*\u001b[39m\u001b[39m=\u001b[39m (\u001b[39m1\u001b[39m \u001b[39m+\u001b[39m aylik_enflasyon\u001b[39m/\u001b[39m\u001b[39m100\u001b[39m)\n\u001b[0;32m     53\u001b[0m         \u001b[39mself\u001b[39m\u001b[39m.\u001b[39mtatil \u001b[39m+\u001b[39m \u001b[39mself\u001b[39m\u001b[39m.\u001b[39mrestoran \u001b[39m+\u001b[39m \u001b[39mself\u001b[39m\u001b[39m.\u001b[39mhobi \u001b[39m+\u001b[39m \u001b[39mself\u001b[39m\u001b[39m.\u001b[39mgiyim\n\u001b[1;32m---> 55\u001b[0m yeni_LuksGiderler \u001b[39m=\u001b[39m LuksGiderler \u001b[39m*\u001b[39m (\u001b[39m1\u001b[39m \u001b[39m+\u001b[39m aylik_enflasyon \u001b[39m/\u001b[39m \u001b[39m100\u001b[39m)\n\u001b[0;32m     57\u001b[0m Toplam_gider \u001b[39m=\u001b[39m (SabitGiderler) \u001b[39m+\u001b[39m (yeni_LuksGiderler)\n\u001b[0;32m     59\u001b[0m \u001b[39mclass\u001b[39;00m \u001b[39mHedefButce\u001b[39;00m:\n",
      "\u001b[1;31mNameError\u001b[0m: name 'aylik_enflasyon' is not defined"
     ]
    }
   ],
   "source": [
    "import requests\n",
    "\n",
    "api_url = \"https://ycharts.com/indicators/us_consumer_price_index#:~:text=March%2031%2C%202021-,264.91,-February%2028%2C%202021\"\n",
    "\n",
    "response = requests.get(api_url)\n",
    "\n",
    "\n",
    "if response.status_code == 200:\n",
    "    data = response.json()\n",
    "    aylik_enflasyon = float(data[\"items\"][0][\"value\"])\n",
    "    print(\"Aylık Enflasyon Oranı:\", aylik_enflasyon)\n",
    "else:\n",
    "    print(\"Enflasyon verileri alınamadı.\")\n",
    "\n",
    "\n",
    "\n",
    "\n",
    "\n",
    "isim = input(\"İsminiz: \")\n",
    "yas = int(input(\"Yaşınız: \"))\n",
    "eposta = input(\"E-posta adresiniz: \")\n",
    "sabit_gelir = float(input(\"Sabit geliriniz: \"))\n",
    "degisken_gelir = float(input(\"Değişken geliriniz: \"))\n",
    "\n",
    "\n",
    "class SabitGiderler:\n",
    "   def __init__(self):\n",
    "        self.kira = float(input(\"Kira gideri: \"))\n",
    "        self.elektrik = float(input(\"Elektrik gideri: \"))\n",
    "        self.su = float(input(\"Su gideri: \"))\n",
    "        self.internet = float(input(\"İnternet gideri: \"))\n",
    "        self.dogalgaz = float(input(\"Doğalgaz gideri: \"))\n",
    "\n",
    "sabit_giderler = SabitGiderler()\n",
    "\n",
    "\n",
    "class LuksGiderler:\n",
    "  def _init_(self):\n",
    "        self.tatil = float (input(\"Tatil gideri: \"))\n",
    "        self.restoran = float (input( \"Restoran gider: \"))\n",
    "        self.hobi = float (input(\"Hobi gideri: \"))\n",
    "        self.giyim = float (input(\"Giyim gideri: \"))\n",
    "\n",
    "luks_giderler = LuksGiderler()\n",
    "\n",
    "\n",
    "        \n",
    "def toplam_lüks_gider_hesapla(self, aylik_enflasyon):\n",
    "        self.tatil *= (1 + aylik_enflasyon/100)\n",
    "        self.restoran *= (1 + aylik_enflasyon/100)\n",
    "        self.hobi *= (1 + aylik_enflasyon/100)\n",
    "        self.giyim *= (1 + aylik_enflasyon/100)\n",
    "        self.tatil + self.restoran + self.hobi + self.giyim\n",
    "\n",
    "yeni_LuksGiderler = LuksGiderler * (1 + aylik_enflasyon / 100)\n",
    "    \n",
    "Toplam_gider = (SabitGiderler) + (yeni_LuksGiderler)\n",
    "    \n",
    "class HedefButce:\n",
    "    def _init_(self, sabit_giderler, luks_giderler, aylik_enflasyon):\n",
    "        self.sabit_giderler = sabit_giderler\n",
    "        self.luks_giderler = luks_giderler\n",
    "        self.aylik_enflasyon = aylik_enflasyon\n",
    "        self.sabit_giderler + self.luks_giderler + self.aylik_enflasyon\n",
    "        \n",
    "  \n",
    "\n",
    "if  (HedefButce) ==  (Toplam_gider):\n",
    "    print(\"Hedef bütçenize zatenulaşmışsınız.\")\n",
    "elif (HedefButce) >  (Toplam_gider):\n",
    "    print(\"Hedef bütçenize ulaşmak için daha çok biriktirmeniz gerekiyor.\")\n",
    "else:\n",
    "    print(\"Tebrikler! Hedef bütçenize ulaştınız ve bütçenizin üzerinde bir birikime sahipsiniz.\")\n",
    "\n"
   ]
  }
 ],
 "metadata": {
  "kernelspec": {
   "display_name": "Python 3",
   "language": "python",
   "name": "python3"
  },
  "language_info": {
   "codemirror_mode": {
    "name": "ipython",
    "version": 3
   },
   "file_extension": ".py",
   "mimetype": "text/x-python",
   "name": "python",
   "nbconvert_exporter": "python",
   "pygments_lexer": "ipython3",
   "version": "3.11.1"
  },
  "orig_nbformat": 4,
  "vscode": {
   "interpreter": {
    "hash": "0d77365f11846858478cdc30c2ff3308b06fc2a3b654408ea2f59bf92169ca2d"
   }
  }
 },
 "nbformat": 4,
 "nbformat_minor": 2
}
