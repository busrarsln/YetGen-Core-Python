{
 "cells": [
  {
   "cell_type": "code",
   "execution_count": 12,
   "metadata": {},
   "outputs": [
    {
     "name": "stdout",
     "output_type": "stream",
     "text": [
      "Bu ayki lüks giderlerinize uygulanacak enflasyon oranı 19.25. Ayrıca lüks giderlerinizin enflasyonlu fiyatı 702.1274999999999 tl'dir.\n",
      "Hedef bütçenizden 1803.8725 miktar para arttırdınız, tebrikler!.\n",
      "Geliriniz giderlerinizden fazla artan paranız 3803.8725 dir.\n"
     ]
    }
   ],
   "source": [
    "isim = input(\"İsminiz: \")\n",
    "yas = int(input(\"Yaşınız: \"))\n",
    "eposta = input(\"E-posta adresiniz: \")\n",
    "sabit_gelir = float(input(\"Sabit geliriniz: \"))\n",
    "degisken_gelir = float(input(\"Değişken geliriniz: \"))\n",
    "hedeflenen_harcama= float(input(\"Bu ay harcamak istediğiniz miktarı giriniz: \"))\n",
    "toplam_gelir = sabit_gelir + degisken_gelir \n",
    "\n",
    "class SabitGiderler:\n",
    "    def __init__(self):\n",
    "        self.kira = float(input(\"Kira gideri: \"))\n",
    "        self.elektrik = float(input(\"Elektrik gideri: \"))\n",
    "        self.su = float(input(\"Su gideri: \"))\n",
    "        self.internet = float(input(\"İnternet gideri: \"))\n",
    "        self.dogalgaz = float(input(\"Doğalgaz gideri: \"))\n",
    "        self.digerzorunlu = float(input(\"Diğer zorunlu giderleriniz: \"))\n",
    "\n",
    "sabit_giderler = SabitGiderler()\n",
    "\n",
    "class LuksGiderler:\n",
    "    def __init__(self):\n",
    "        self.tatil = float(input(\"Tatil gideri: \"))\n",
    "        self.restoran = float(input(\"Restoran gider: \"))\n",
    "        self.hobi = float(input(\"Hobi gideri: \"))\n",
    "        self.giyim = float(input(\"Giyim gideri: \"))\n",
    "        self.digerluks = float(input(\"Diğer lüks giderleriniz: \"))\n",
    "\n",
    "luks_giderler = LuksGiderler()\n",
    "\n",
    "toplam_gider = sabit_giderler.kira + sabit_giderler.elektrik + sabit_giderler.su + sabit_giderler.internet + sabit_giderler.dogalgaz + luks_giderler.tatil + luks_giderler.restoran + luks_giderler.hobi + luks_giderler.giyim\n",
    "\n",
    "aylar = ['Ocak', 'Şubat', 'Mart', 'Nisan', 'Mayıs', 'Haziran', 'Temmuz', 'Ağustos', 'Eylül', 'Ekim', 'Kasım' , \"Aralık\"]\n",
    "aylik_enflasyon = [17.14, 16.59, 17.14, 17.90, 19.25, 21.00, 18.95, 19.25, 18.35, 21.62, 21.62, 36.12]\n",
    "ay_enflasyon_ciftleri = list(zip(aylar, aylik_enflasyon))\n",
    "\n",
    "ay = input(\"Bir ay ismi girin: \")\n",
    "enflasyon_orani = None\n",
    "\n",
    "for ay_enflasyon in ay_enflasyon_ciftleri:\n",
    "    if ay_enflasyon[0] == ay:\n",
    "        enflasyon_orani = ay_enflasyon[1]\n",
    "        break\n",
    "\n",
    "if enflasyon_orani is not None:\n",
    "    luks_giderler.tatil *= 1 + enflasyon_orani / 100\n",
    "    luks_giderler.restoran *= 1 + enflasyon_orani / 100\n",
    "    luks_giderler.hobi *= 1 + enflasyon_orani / 100\n",
    "    luks_giderler.giyim *= 1 + enflasyon_orani / 100\n",
    "    toplam_luksgider = luks_giderler.tatil + luks_giderler.restoran + luks_giderler.hobi + luks_giderler.giyim + luks_giderler.digerluks\n",
    "    toplam_gider = sabit_giderler.kira + sabit_giderler.elektrik + sabit_giderler.su + sabit_giderler.internet + sabit_giderler.dogalgaz + sabit_giderler.digerzorunlu + luks_giderler.tatil + luks_giderler.restoran + luks_giderler.hobi + luks_giderler.giyim + luks_giderler.digerluks\n",
    "    print (f\"Bu ayki lüks giderlerinize uygulanacak enflasyon oranı {enflasyon_orani}. Ayrıca lüks giderlerinizin enflasyonlu fiyatı {toplam_luksgider} tl'dir.\")\n",
    "else:\n",
    "    print(\"Geçersiz ay ismi girdiniz.\")\n",
    "\n",
    "artan_miktar = toplam_gelir - toplam_gider\n",
    "asilan_miktar = toplam_gider - toplam_gelir\n",
    "artan_hedef = hedeflenen_harcama - toplam_gider\n",
    "asilan_hedef = toplam_gider - hedeflenen_harcama\n",
    "\n",
    "if  (hedeflenen_harcama) ==  (toplam_gider):\n",
    "    print(\"Hedef bütçenize tam tamına ulaştınız.\")\n",
    "elif (hedeflenen_harcama) >  (toplam_gider):\n",
    "    print(f\"Hedef bütçenizden {artan_hedef} miktar para arttırdınız, tebrikler!.\")\n",
    "else:\n",
    "    print(\"Hedef bütçenizin üzerindesiniz, bu ay birikim yapamazsınız.\")\n",
    "\n",
    "if  (toplam_gelir) ==  (toplam_gider):\n",
    "    print(\"Bütün gelirinizi kullandınız, bu ay birikim yapamazsınız.\")\n",
    "elif (toplam_gelir) >  (toplam_gider):\n",
    "    print(f\"Geliriniz giderlerinizden fazla artan paranız {artan_miktar} dir.\")\n",
    "else:\n",
    "    print(f\"Bu ayki gelirinizin üstüne çıktınız, kısmanız gereken bütçe miktarı {asilan_miktar} dır..\")\n",
    "\n",
    "\n"
   ]
  }
 ],
 "metadata": {
  "kernelspec": {
   "display_name": "Python 3",
   "language": "python",
   "name": "python3"
  },
  "language_info": {
   "codemirror_mode": {
    "name": "ipython",
    "version": 3
   },
   "file_extension": ".py",
   "mimetype": "text/x-python",
   "name": "python",
   "nbconvert_exporter": "python",
   "pygments_lexer": "ipython3",
   "version": "3.11.1"
  },
  "orig_nbformat": 4
 },
 "nbformat": 4,
 "nbformat_minor": 2
}
