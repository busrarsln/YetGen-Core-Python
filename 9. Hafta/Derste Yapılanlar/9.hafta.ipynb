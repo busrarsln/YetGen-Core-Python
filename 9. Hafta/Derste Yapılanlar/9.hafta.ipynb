{
 "cells": [
  {
   "cell_type": "code",
   "execution_count": null,
   "metadata": {},
   "outputs": [],
   "source": []
  },
  {
   "cell_type": "code",
   "execution_count": 4,
   "metadata": {},
   "outputs": [],
   "source": [
    "class Yazilimci():\n",
    "    def __init__(self, isim, soyisim, numara, maas, diller):\n",
    "        self.isim = isim\n",
    "        self.soyisim = soyisim\n",
    "        self.numara = numara\n",
    "        self.maas = maas\n",
    "        self.diller = diller\n",
    "\n",
    "    def bilgileri_goster(self):\n",
    "       print(f\"\"\"\n",
    "         Çalışan Bilgisi : \n",
    "        \n",
    "       \n",
    "        İsim : {self.isim}\n",
    "        Soyisim : {self.soyisim}\n",
    "        Numara: {self.numara}\n",
    "        Maaş : {self.maas}\n",
    "        Bildiği diller : {self.diller}\n",
    "           \"\"\")\n",
    "        \n",
    "    def dil_ekle(self, yeni_dil):\n",
    "        print(\"Dil eklendi.\")\n",
    "        self.diller.append(yeni_dil)\n",
    "    def maas_yukselt (self, zam):\n",
    "        print(\"Zam yapılıyor...\")\n",
    "        self.maas += 250"
   ]
  },
  {
   "cell_type": "code",
   "execution_count": null,
   "metadata": {},
   "outputs": [],
   "source": [
    "yazilimci = Yazilimci(\"Gece\" , \"Arslan\", \"21286104\", 100000, \"Python, Java\""
   ]
  },
  {
   "cell_type": "code",
   "execution_count": 6,
   "metadata": {},
   "outputs": [
    {
     "ename": "NameError",
     "evalue": "name 'yazilimci' is not defined",
     "output_type": "error",
     "traceback": [
      "\u001b[1;31m---------------------------------------------------------------------------\u001b[0m",
      "\u001b[1;31mNameError\u001b[0m                                 Traceback (most recent call last)",
      "Cell \u001b[1;32mIn[6], line 1\u001b[0m\n\u001b[1;32m----> 1\u001b[0m yazilimci\u001b[39m.\u001b[39mbilgileri_goster()\n",
      "\u001b[1;31mNameError\u001b[0m: name 'yazilimci' is not defined"
     ]
    }
   ],
   "source": [
    "yazilimci.bilgileri_goster()"
   ]
  }
 ],
 "metadata": {
  "kernelspec": {
   "display_name": "Python 3",
   "language": "python",
   "name": "python3"
  },
  "language_info": {
   "codemirror_mode": {
    "name": "ipython",
    "version": 3
   },
   "file_extension": ".py",
   "mimetype": "text/x-python",
   "name": "python",
   "nbconvert_exporter": "python",
   "pygments_lexer": "ipython3",
   "version": "3.11.1"
  },
  "orig_nbformat": 4
 },
 "nbformat": 4,
 "nbformat_minor": 2
}
