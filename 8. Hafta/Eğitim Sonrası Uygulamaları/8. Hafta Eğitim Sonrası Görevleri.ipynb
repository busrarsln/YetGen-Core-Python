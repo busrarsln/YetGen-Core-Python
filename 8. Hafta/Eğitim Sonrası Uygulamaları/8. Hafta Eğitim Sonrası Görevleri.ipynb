{
 "cells": [
  {
   "attachments": {},
   "cell_type": "markdown",
   "metadata": {},
   "source": [
    "# Problem 1\n",
    "\n",
    "Şimdi beraber kullanıcılardan aldığımız verileri işleyerek, onlara hem çıktı verecek, hem de aldığımız ve hesapladığımız verileri ileride kullanabilmek adına kaydedeceğiz.\n",
    "\n",
    "\n",
    " **Bu bir veri giriş platformu olacak**\n",
    "\n",
    "\n",
    " * kullanıcıya kaç giriş yapacağını soracağız\n",
    "* kullanıcıdan isim-soyisim, yaş, boy, kilo bilgilerini alarak VKİ hesaplayacağız\n",
    "* ardından bunları sınıflara göre kaydedeceğiz bir dosyaya kaydedeceğiz\n",
    "\n",
    "\n",
    "Sınıflar ise şu şekilde: \n",
    "* 18, 5 kg/m.'nin altında olanlar: Zayıf\n",
    "* 18.5 – 24, 9 kg/m. arasında olanlar: Normal kilolu\n",
    "* 25 – 29, 9 kg/m. arasında olanlar: Fazla kilolu\n",
    "* 30 – 39, 9 kg/m. arasında olanlar: Obez\n",
    "* 40 kg/m.'nin üzerinde olanlar: İleri derecede obez (morbid obez), olarak görülür."
   ]
  },
  {
   "cell_type": "code",
   "execution_count": 76,
   "metadata": {},
   "outputs": [
    {
     "name": "stdout",
     "output_type": "stream",
     "text": [
      "kullanıcı kaydı 1\n"
     ]
    },
    {
     "ename": "TypeError",
     "evalue": "unsupported operand type(s) for /: 'str' and 'int'",
     "output_type": "error",
     "traceback": [
      "\u001b[1;31m---------------------------------------------------------------------------\u001b[0m",
      "\u001b[1;31mTypeError\u001b[0m                                 Traceback (most recent call last)",
      "Cell \u001b[1;32mIn[76], line 41\u001b[0m\n\u001b[0;32m     39\u001b[0m              \u001b[39mprint\u001b[39m(\u001b[39m\"\u001b[39m\u001b[39mkullanıcı kaydedildi.\u001b[39m\u001b[39m\"\u001b[39m)\n\u001b[0;32m     40\u001b[0m        \u001b[39mprint\u001b[39m(\u001b[39m\"\u001b[39m\u001b[39mveriler \u001b[39m\u001b[39m'\u001b[39m\u001b[39msağlık.txt\u001b[39m\u001b[39m'\u001b[39m\u001b[39m dosyasına kaydedildi.\u001b[39m\u001b[39m\\n\u001b[39;00m\u001b[39m \u001b[39m\u001b[39m\"\u001b[39m)\n\u001b[1;32m---> 41\u001b[0m main()\n",
      "Cell \u001b[1;32mIn[76], line 32\u001b[0m, in \u001b[0;36mmain\u001b[1;34m()\u001b[0m\n\u001b[0;32m     30\u001b[0m kilo \u001b[39m=\u001b[39m \u001b[39minput\u001b[39m (\u001b[39m\"\u001b[39m\u001b[39mkilo(kg): \u001b[39m\u001b[39m\"\u001b[39m)\n\u001b[0;32m     31\u001b[0m boy \u001b[39m=\u001b[39m \u001b[39minput\u001b[39m (\u001b[39m\"\u001b[39m\u001b[39mboy (m): \u001b[39m\u001b[39m\"\u001b[39m)\n\u001b[1;32m---> 32\u001b[0m vki \u001b[39m=\u001b[39m vki_hesaplama(kilo, boy)\n\u001b[0;32m     33\u001b[0m deger \u001b[39m=\u001b[39m deger_araligi(vki)\n\u001b[0;32m     34\u001b[0m output \u001b[39m=\u001b[39m cikti_olustur(isim, yas, kilo, boy, vki, deger)\n",
      "Cell \u001b[1;32mIn[76], line 3\u001b[0m, in \u001b[0;36mvki_hesaplama\u001b[1;34m(kilo, boy)\u001b[0m\n\u001b[0;32m      2\u001b[0m \u001b[39mdef\u001b[39;00m \u001b[39mvki_hesaplama\u001b[39m(kilo, boy):\n\u001b[1;32m----> 3\u001b[0m     vki \u001b[39m=\u001b[39m kilo\u001b[39m/\u001b[39m((boy\u001b[39m/\u001b[39;49m\u001b[39m100\u001b[39;49m)\u001b[39m*\u001b[39m\u001b[39m*\u001b[39m\u001b[39m2\u001b[39m)\n\u001b[0;32m      4\u001b[0m     \u001b[39mreturn\u001b[39;00m \u001b[39mround\u001b[39m(vki, \u001b[39m1\u001b[39m)\n",
      "\u001b[1;31mTypeError\u001b[0m: unsupported operand type(s) for /: 'str' and 'int'"
     ]
    }
   ],
   "source": [
    "import time\n",
    "def vki_hesaplama(kilo, boy):\n",
    "    vki = kilo/((boy/100)**2)\n",
    "    return round(vki, 1)\n",
    "def deger_araligi(vki):\n",
    "    if vki < 18.5:\n",
    "        return\"zayıf\"\n",
    "    elif vki <= 24.9:\n",
    "        return \"normal kiloda\"\n",
    "    elif vki <= 29.9:\n",
    "        return \"fazla kilolu\"\n",
    "    elif vki<= 39.9:\n",
    "        return \"obez\"\n",
    "    elif vki >= 40:\n",
    "        return \"ileri obez\"\n",
    "def cikti_olustur(isim, yas, kilo, boy, vki, deger):\n",
    "    kayit_tarihi = time.ctime(time.time())\n",
    "    t1 = f\"kullanıcı adı {isim}\\n\"\n",
    "    t2 = f\"kullanıcının yaş, kilo, boy bilgisi {yas}, {kilo}, {boy}\\n\"\n",
    "    t3 = f\"kullanıcının vücut kitle indeksi {vki}\\n\"\n",
    "    t4 = f\"değer aralığı {deger}\\n\"\n",
    "    t5 = f\"oluşturma tarihi : {kayit_tarihi}\\n\"\n",
    "    output = t1 + t2 + t3 + t4 + t5\n",
    "def main ():\n",
    "       giris_sayisi= int(input(\"Kaç kullanıcı verisi gireceksiniz?: \"))\n",
    "       for i in range(giris_sayisi):\n",
    "           print(f\"kullanıcı kaydı {i+1}\")\n",
    "           isim = input(\"isim soyisim: \")\n",
    "           yas = input (\"yaş :\")\n",
    "           kilo = input (\"kilo(kg): \")\n",
    "           boy = input (\"boy (m): \")\n",
    "           vki = vki_hesaplama(kilo, boy)\n",
    "           deger = deger_araligi(vki)\n",
    "           output = cikti_olustur(isim, yas, kilo, boy, vki, deger)\n",
    "           with open (\"sağlık.txt\", \"a\") as f:\n",
    "             f.write(output)\n",
    "             f.write(\"*\"* 20)\n",
    "             f.write(\"\\n\")\n",
    "             print(\"kullanıcı kaydedildi.\")\n",
    "       print(\"veriler 'sağlık.txt' dosyasına kaydedildi.\\n \")\n",
    "main()\n"
   ]
  },
  {
   "cell_type": "code",
   "execution_count": null,
   "metadata": {},
   "outputs": [],
   "source": []
  },
  {
   "cell_type": "code",
   "execution_count": null,
   "metadata": {},
   "outputs": [],
   "source": [
    " "
   ]
  },
  {
   "attachments": {},
   "cell_type": "markdown",
   "metadata": {},
   "source": [
    "# Problem 2\n",
    "**YetBar - Smoothie Bank**\n",
    "---\n",
    "YetBar spor salonunun girişinde bulunan, insansız bir sağlıklı içecek otomatıdır. Kullanıcı çeşitli girdiler smoothie içeceğine koyacağı ürünleri belirleyebilir, fiyat hesaplaması yaptırabilir ya da sadece menüyü görüntüleyebilir.\n",
    "\n",
    "**Projenin Amacı:**\n",
    "\n",
    "*   Birbirini etkileyen ve bir kod içerisinde birden fazla defa başvurulacak fonksiyonların oluşturulup, \"fonksiyonel\" proglamlamak.\n",
    "*   Büyük programları yazarken, yazılımcı olarak yapabileceğimiz hatalardan kaçınmak için kontrol yöntemleri geliştirmek.\n",
    "*   Kullanıcı inputlarını ve yaptığımız hesapları, raporlamak/loglamak amacıyla kaydetmek.\n",
    "\n",
    "**Programdan Beklenen Çıktılar**\n",
    "* Program kullanıcıya temelde 2 farklı işlem yapma imkanı sağlar.\n",
    "> 1. Menüyü görüntüleme\n",
    "> 3. Satın alma\n",
    "* Satın alınan her içecek tarih, fiyat bilgisi ile kaydedilmeli ve her zaman ulaşılabilir olmalıdır.\n",
    "\n",
    "\n"
   ]
  },
  {
   "cell_type": "code",
   "execution_count": null,
   "metadata": {},
   "outputs": [],
   "source": [
    "menu =  {\n",
    "    \"elma\": 0.50,\n",
    "    \"ahududu\": 1.75,\n",
    "    \"muz\":1.50., \n",
    "    \"kavun\": 2.25,\n",
    "    \"yabanmersini\": 2.40\n",
    "    \"cilek\": 2.\n",
    "}\n",
    "print(\"Elmanın fiyatı: \", menu[\"elma\"])\n",
    "print(\"Çileğin fiyatı: \", menu[\"cilek\"])\n",
    "def display_menu():\n",
    "    print(\"-----YetBar Menu-----\")\n",
    "    for item in list(menu.keys()):\n",
    "        print(f\"{item.upper()} : {menu[item]} TL\")\n",
    "def tek_urun_fiyat_hesaplama(urun, adet):\n",
    "    assert adet >= 0, \"Ürün adedi 0 veya 0'dan küçük olamaz.\"\n",
    "    if urun not in list(menu.keys()):\n",
    "        return None\n",
    "    else:\n",
    "        return menu[urun] * adet\n",
    "def satin_alma():\n",
    "    display_menu()\n",
    "    print (\"Lütfen satın almak istediğiniz ürünleri giriniz. Çıkmak için 0'ı tuşlayınız.\")\n",
    "    satin_alinan_urunler = []\n",
    "    satin_alma_adedi = []\n",
    "    son_fiyat = 0\n",
    "    while 1:\n",
    "        eklenecek_urun = input(\"Hangi ürünleri eklemek istiyorsunuz?\")\n",
    "        if eklenecek_urun == \"0\":\n",
    "            print(\"Fiş kaydediliyor...\")\n",
    "        ekleme_adedi = iny(input(\"Kaç adet eklemek istiyorsunuz? \"))\n",
    "        fiyat = tek_urun_fiyat_hesaplama(eklenecek_urun, ekleme_adedi)\n",
    "        if fiyat is None:\n",
    "            print(\"Yanlış giriş yaptınız, ürün eklenemedi.\")\n",
    "    "
   ]
  }
 ],
 "metadata": {
  "kernelspec": {
   "display_name": "Python 3",
   "language": "python",
   "name": "python3"
  },
  "language_info": {
   "codemirror_mode": {
    "name": "ipython",
    "version": 3
   },
   "file_extension": ".py",
   "mimetype": "text/x-python",
   "name": "python",
   "nbconvert_exporter": "python",
   "pygments_lexer": "ipython3",
   "version": "3.11.1"
  },
  "orig_nbformat": 4,
  "vscode": {
   "interpreter": {
    "hash": "5026d2d6e7aaaaba093def813beadff083d8733e4a511af01735cbabd156995d"
   }
  }
 },
 "nbformat": 4,
 "nbformat_minor": 2
}
